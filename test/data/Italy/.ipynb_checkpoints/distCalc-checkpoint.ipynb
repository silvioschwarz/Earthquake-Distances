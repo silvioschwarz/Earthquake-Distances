{
 "cells": [
  {
   "cell_type": "code",
   "execution_count": 1,
   "metadata": {},
   "outputs": [
    {
     "data": {
      "text/plain": [
       "'/home/silvio/Dokumente/GitHub/Earthquake-Distances'"
      ]
     },
     "execution_count": 1,
     "metadata": {},
     "output_type": "execute_result"
    }
   ],
   "source": [
    "import os \n",
    "#if you want to know current working dir\n",
    "os.getcwd()"
   ]
  },
  {
   "cell_type": "code",
   "execution_count": 2,
   "metadata": {},
   "outputs": [
    {
     "name": "stdout",
     "output_type": "stream",
     "text": [
      "Column headings:\n",
      "Index([u'Record Sequence Number', u'EQID', u'Earthquake Name', u'YEAR',\n",
      "       u'MODY', u'HRMN', u'Station Name', u'Earthquake Magnitude',\n",
      "       u'Magnitude Type', u'Strike (deg)', u'Dip (deg)',\n",
      "       u'Hypocenter Latitude (deg)', u'Hypocenter Longitude (deg)',\n",
      "       u'Hypocenter Depth (km)', u'Depth to Top Of Fault Rupture Model',\n",
      "       u'Fault Rupture Length for Calculation of Ry (km)',\n",
      "       u'Fault Rupture Width (km)', u'Fault Rupture Area (km^2)', u'EpiD (km)',\n",
      "       u'HypD (km)', u'Joyner-Boore Dist. (km)', u'Campbell R Dist. (km)',\n",
      "       u'RmsD (km)', u'ClstD (km)', u'Rx', u'Source to Site Azimuth (deg)',\n",
      "       u'Station Latitude', u'Station Longitude', u'PGA (g)'],\n",
      "      dtype='object')\n"
     ]
    },
    {
     "data": {
      "text/plain": [
       "21540"
      ]
     },
     "execution_count": 2,
     "metadata": {},
     "output_type": "execute_result"
    }
   ],
   "source": [
    "import pandas as pd\n",
    "import numpy as np\n",
    "from pandas import ExcelWriter\n",
    "from pandas import ExcelFile\n",
    "#from EQDist import GeoDistance\n",
    "#from EQDist import EQDistances\n",
    "import matplotlib.pyplot as plt\n",
    "import sympy as sp\n",
    "\n",
    "#import nga data\n",
    "df = pd.read_excel(\"test/Data.xlsx\", sheet_name=\"Sheet1\")\n",
    "print(\"Column headings:\")\n",
    "print(df.columns)\n",
    "len(df[\"EQID\"])"
   ]
  },
  {
   "cell_type": "code",
   "execution_count": 6,
   "metadata": {},
   "outputs": [],
   "source": [
    "#Processing\n",
    "# get rid of all without location data\n",
    "\n",
    "df= df[(df[\"Hypocenter Latitude (deg)\"]!=-999) &\n",
    "       (df[\"Hypocenter Longitude (deg)\"] != -999) & \n",
    "       (df[\"Station Latitude\"]!=-999)&\n",
    "       (df[\"Station Longitude\"]!=-999)]\n",
    "len(df[\"EQID\"])\n",
    "df.index = range(len(df.index))\n"
   ]
  },
  {
   "cell_type": "code",
   "execution_count": 27,
   "metadata": {},
   "outputs": [],
   "source": [
    "import numpy as np\n",
    "from scipy.spatial.distance import cdist\n",
    "\n",
    "def GeoDistance(lat1, lon1, lat2, lon2, unit):\n",
    "    radlat1 = np.pi * lat1/180\n",
    "    radlat2 = np.pi * lat2/180\n",
    "    theta = lon1-lon2\n",
    "    radtheta = np.pi * theta/180\n",
    "    dist = np.sin(radlat1) * np.sin(radlat2) + np.cos(radlat1) * np.cos(radlat2) * np.cos(radtheta);\n",
    "    dist = np.arccos(dist)\n",
    "    dist = dist * 180/np.pi\n",
    "    dist = dist * 60 * 1.1515\n",
    "\n",
    "    if unit==\"K\":\n",
    "            dist = dist * 1.609344\n",
    "    if unit==\"N\":\n",
    "            dist = dist * 0.8684\n",
    "    return dist\n",
    "\n",
    "def EQDistances(points,EQDEPTH,Strike,Dip,Length,Width,DeltaL,DeltaW):\n",
    "#TODO: DeltaL, DeltaW\n",
    "\n",
    "    dip = np.radians(-Dip)\n",
    "    strike = np.radians(Strike-90)\n",
    "\n",
    "    cosDip, cosStrike, sinDip, sinStrike = np.cos(dip), np.cos(strike), np.sin(dip), np.sin(strike)\n",
    "\n",
    "    rotationStrike = np.array([[cosStrike, -sinStrike, 0],\n",
    "                               [sinStrike, cosStrike, 0],\n",
    "                               [0,0,1]]\n",
    "                             )\n",
    "\n",
    "\n",
    "    rotationDip = np.array([[cosDip, 0, -sinDip],\n",
    "                           [0, 1, 0],\n",
    "                           [sinDip,0,cosDip]]\n",
    "                          )\n",
    "\n",
    "    #DISTANCE CALCULATIONS\n",
    "    repi = np.sqrt(np.sum(points**2))\n",
    "    rhyp = np.sqrt(repi**2+EQDEPTH**2)\n",
    "\n",
    "    eqDimensions = np.array([Width/2,Length/2,0])\n",
    "    eqDimensionsSurface = eqDimensions * np.array([np.cos(Dip),1,1])\n",
    "\n",
    "    ### RJB\n",
    "    points = np.array(points).dot(rotationStrike)\n",
    "    diff = np.abs(points) - eqDimensionsSurface\n",
    "\n",
    "    rjb = np.sqrt((((np.abs(diff) + diff)/2)**2).sum())\n",
    "    ### RRUP\n",
    "    points = (np.array(points)+np.array([0,0,EQDEPTH])).dot(rotationDip)\n",
    "    diff = np.abs(points) - eqDimensions\n",
    "\n",
    "    rrup = np.sqrt((((np.abs(diff) + diff)/2)**2).sum())\n",
    "\n",
    "    rell = cdist(points, np.array([eqDimensions*np.array([-1,1,1]),\n",
    "                                eqDimensions*np.array([-1,-1,1])]))#.mean()\n",
    "\n",
    "    rz = cdist(points, np.array([eqDimensions*np.array([1,1,1]),\n",
    "                                eqDimensions*np.array([-1,1,1]),\n",
    "                                eqDimensions*np.array([-1,-1,1]),\n",
    "                                eqDimensions*np.array([1,-1,1])]))#.mean()\n",
    "\n",
    "    return np.array([repi,rhyp,rjb,rrup,rell,rz])"
   ]
  },
  {
   "cell_type": "code",
   "execution_count": 24,
   "metadata": {},
   "outputs": [],
   "source": [
    "EQLAT=df[\"Hypocenter Latitude (deg)\"]\n",
    "EQLON=df[\"Hypocenter Longitude (deg)\"]\n",
    "EVENTLAT=df[\"Station Latitude\"]\n",
    "EVENTLON=df[\"Station Longitude\"]\n",
    "EQDEPTH=df[\"Hypocenter Depth (km)\"]\n",
    "Strike=df[\"Strike (deg)\"]\n",
    "Dip=df[\"Dip (deg)\"]\n",
    "Length=df[\"Fault Rupture Length for Calculation of Ry (km)\"]\n",
    "Width=df[\"Fault Rupture Width (km)\"]\n",
    "PGA = df[\"PGA (g)\"]\n",
    "\n",
    "XEvent= GeoDistance(EQLAT,EVENTLON,EQLAT,EQLON,\"K\")\n",
    "YEvent= GeoDistance(EVENTLAT,EQLON,EQLAT,EQLON,\"K\")\n"
   ]
  },
  {
   "cell_type": "code",
   "execution_count": 25,
   "metadata": {},
   "outputs": [
    {
     "data": {
      "text/plain": [
       "11.5"
      ]
     },
     "execution_count": 25,
     "metadata": {},
     "output_type": "execute_result"
    }
   ],
   "source": [
    "\n",
    "points = np.array(zip(XEvent, YEvent, YEvent*0))\n",
    "\n",
    "Width[465]"
   ]
  },
  {
   "cell_type": "code",
   "execution_count": 28,
   "metadata": {},
   "outputs": [
    {
     "ename": "ValueError",
     "evalue": "XA must be a 2-dimensional array.",
     "output_type": "error",
     "traceback": [
      "\u001b[0;31m---------------------------------------------------------------------------\u001b[0m",
      "\u001b[0;31mValueError\u001b[0m                                Traceback (most recent call last)",
      "\u001b[0;32m<ipython-input-28-2216468305a4>\u001b[0m in \u001b[0;36m<module>\u001b[0;34m()\u001b[0m\n\u001b[1;32m      1\u001b[0m \u001b[0;34m\u001b[0m\u001b[0m\n\u001b[0;32m----> 2\u001b[0;31m \u001b[0mdistances\u001b[0m \u001b[0;34m=\u001b[0m \u001b[0;34m[\u001b[0m\u001b[0mEQDistances\u001b[0m\u001b[0;34m(\u001b[0m\u001b[0mpoints\u001b[0m\u001b[0;34m[\u001b[0m\u001b[0mi\u001b[0m\u001b[0;34m]\u001b[0m\u001b[0;34m,\u001b[0m\u001b[0mEQDEPTH\u001b[0m\u001b[0;34m[\u001b[0m\u001b[0mi\u001b[0m\u001b[0;34m]\u001b[0m\u001b[0;34m,\u001b[0m\u001b[0mStrike\u001b[0m\u001b[0;34m[\u001b[0m\u001b[0mi\u001b[0m\u001b[0;34m]\u001b[0m\u001b[0;34m,\u001b[0m\u001b[0mDip\u001b[0m\u001b[0;34m[\u001b[0m\u001b[0mi\u001b[0m\u001b[0;34m]\u001b[0m\u001b[0;34m,\u001b[0m\u001b[0mLength\u001b[0m\u001b[0;34m[\u001b[0m\u001b[0mi\u001b[0m\u001b[0;34m]\u001b[0m\u001b[0;34m,\u001b[0m\u001b[0mWidth\u001b[0m\u001b[0;34m[\u001b[0m\u001b[0mi\u001b[0m\u001b[0;34m]\u001b[0m\u001b[0;34m,\u001b[0m\u001b[0;36m0\u001b[0m\u001b[0;34m,\u001b[0m\u001b[0;36m0\u001b[0m\u001b[0;34m)\u001b[0m \u001b[0;32mfor\u001b[0m \u001b[0mi\u001b[0m \u001b[0;32min\u001b[0m \u001b[0mrange\u001b[0m\u001b[0;34m(\u001b[0m\u001b[0mlen\u001b[0m\u001b[0;34m(\u001b[0m\u001b[0mXEvent\u001b[0m\u001b[0;34m)\u001b[0m\u001b[0;34m)\u001b[0m\u001b[0;34m]\u001b[0m\u001b[0;34m\u001b[0m\u001b[0m\n\u001b[0m",
      "\u001b[0;32m<ipython-input-27-79e99137795f>\u001b[0m in \u001b[0;36mEQDistances\u001b[0;34m(points, EQDEPTH, Strike, Dip, Length, Width, DeltaL, DeltaW)\u001b[0m\n\u001b[1;32m     56\u001b[0m \u001b[0;34m\u001b[0m\u001b[0m\n\u001b[1;32m     57\u001b[0m     rell = cdist(points, np.array([eqDimensions*np.array([-1,1,1]),\n\u001b[0;32m---> 58\u001b[0;31m                                 eqDimensions*np.array([-1,-1,1])]))#.mean()\n\u001b[0m\u001b[1;32m     59\u001b[0m \u001b[0;34m\u001b[0m\u001b[0m\n\u001b[1;32m     60\u001b[0m     rz = cdist(points, np.array([eqDimensions*np.array([1,1,1]),\n",
      "\u001b[0;32m/usr/local/lib/python2.7/dist-packages/scipy/spatial/distance.pyc\u001b[0m in \u001b[0;36mcdist\u001b[0;34m(XA, XB, metric, *args, **kwargs)\u001b[0m\n\u001b[1;32m   2588\u001b[0m \u001b[0;34m\u001b[0m\u001b[0m\n\u001b[1;32m   2589\u001b[0m     \u001b[0;32mif\u001b[0m \u001b[0mlen\u001b[0m\u001b[0;34m(\u001b[0m\u001b[0ms\u001b[0m\u001b[0;34m)\u001b[0m \u001b[0;34m!=\u001b[0m \u001b[0;36m2\u001b[0m\u001b[0;34m:\u001b[0m\u001b[0;34m\u001b[0m\u001b[0m\n\u001b[0;32m-> 2590\u001b[0;31m         \u001b[0;32mraise\u001b[0m \u001b[0mValueError\u001b[0m\u001b[0;34m(\u001b[0m\u001b[0;34m'XA must be a 2-dimensional array.'\u001b[0m\u001b[0;34m)\u001b[0m\u001b[0;34m\u001b[0m\u001b[0m\n\u001b[0m\u001b[1;32m   2591\u001b[0m     \u001b[0;32mif\u001b[0m \u001b[0mlen\u001b[0m\u001b[0;34m(\u001b[0m\u001b[0msB\u001b[0m\u001b[0;34m)\u001b[0m \u001b[0;34m!=\u001b[0m \u001b[0;36m2\u001b[0m\u001b[0;34m:\u001b[0m\u001b[0;34m\u001b[0m\u001b[0m\n\u001b[1;32m   2592\u001b[0m         \u001b[0;32mraise\u001b[0m \u001b[0mValueError\u001b[0m\u001b[0;34m(\u001b[0m\u001b[0;34m'XB must be a 2-dimensional array.'\u001b[0m\u001b[0;34m)\u001b[0m\u001b[0;34m\u001b[0m\u001b[0m\n",
      "\u001b[0;31mValueError\u001b[0m: XA must be a 2-dimensional array."
     ]
    }
   ],
   "source": [
    "\n",
    "distances = [EQDistances(points[i],EQDEPTH[i],Strike[i],Dip[i],Length[i],Width[i],0,0) for i in range(len(XEvent))]\n"
   ]
  },
  {
   "cell_type": "code",
   "execution_count": 11,
   "metadata": {},
   "outputs": [],
   "source": [
    "dist = pd.DataFrame(distances, columns= ['Repi', 'Rhyp', 'Rjb', 'Rrup'])\n"
   ]
  },
  {
   "cell_type": "code",
   "execution_count": 39,
   "metadata": {},
   "outputs": [
    {
     "data": {
      "text/plain": [
       "(0.0, 1150.0)"
      ]
     },
     "execution_count": 39,
     "metadata": {},
     "output_type": "execute_result"
    },
    {
     "data": {
      "image/png": "[encoded data removed]",
      "text/plain": [
       "<Figure size 432x288 with 1 Axes>"
      ]
     },
     "metadata": {
      "needs_background": "light"
     },
     "output_type": "display_data"
    }
   ],
   "source": [
    "import matplotlib.pyplot as plt\n",
    "\n",
    "# An \"interface\" to matplotlib.axes.Axes.hist() method\n",
    "n, bins, patches = plt.hist(x=dist[\"Repi\"], bins='auto', color='#0504aa',\n",
    "                            alpha=0.7, rwidth=0.85)\n",
    "plt.grid(axis='y', alpha=0.75)\n",
    "plt.xlabel('Value')\n",
    "plt.ylabel('Frequency')\n",
    "plt.title('My Very Own Histogram')\n",
    "plt.text(23, 45, r'$\\mu=15, b=3$')\n",
    "maxfreq = n.max()\n",
    "# Set a clean upper y-axis limit.\n",
    "plt.ylim(ymax=np.ceil(maxfreq / 10) * 10 if maxfreq % 10 else maxfreq + 10)"
   ]
  },
  {
   "cell_type": "code",
   "execution_count": 12,
   "metadata": {},
   "outputs": [],
   "source": [
    "distTarget = df[[\"EpiD (km)\",\"HypD (km)\", \"Joyner-Boore Dist. (km)\", \"RmsD (km)\"]]"
   ]
  },
  {
   "cell_type": "code",
   "execution_count": 13,
   "metadata": {},
   "outputs": [],
   "source": [
    "differences = pd.DataFrame(distTarget.values - dist.values,columns = [\"EpiD (km)\",\"HypD (km)\", \"Joyner-Boore Dist. (km)\", \"RmsD (km)\"])"
   ]
  },
  {
   "cell_type": "code",
   "execution_count": 44,
   "metadata": {},
   "outputs": [
    {
     "data": {
      "image/png": "[encoded data removed]",
      "text/plain": [
       "<Figure size 432x288 with 1 Axes>"
      ]
     },
     "metadata": {
      "needs_background": "light"
     },
     "output_type": "display_data"
    }
   ],
   "source": [
    "n, bins, patches = plt.hist(x=differences[\"EpiD (km)\"], \n",
    "                            bins=1000, \n",
    "                            color='#0504aa',\n",
    "                            alpha=0.7, \n",
    "                            rwidth=0.85)\n",
    "plt.grid(axis='y', alpha=0.75)\n",
    "plt.xlabel('Value')\n",
    "plt.ylabel('Frequency')\n",
    "plt.title('My Very Own Histogram')\n",
    "plt.text(23, 45, r'$\\mu=15, b=3$')\n",
    "maxfreq = n.max()\n",
    "# Set a clean upper y-axis limit.\n",
    "plt.ylim(ymax=np.ceil(maxfreq / 10) * 10 if maxfreq % 10 else maxfreq + 10)\n",
    "plt.show()"
   ]
  },
  {
   "cell_type": "code",
   "execution_count": 48,
   "metadata": {},
   "outputs": [
    {
     "data": {
      "text/html": [
       "<div>\n",
       "<style scoped>\n",
       "    .dataframe tbody tr th:only-of-type {\n",
       "        vertical-align: middle;\n",
       "    }\n",
       "\n",
       "    .dataframe tbody tr th {\n",
       "        vertical-align: top;\n",
       "    }\n",
       "\n",
       "    .dataframe thead th {\n",
       "        text-align: right;\n",
       "    }\n",
       "</style>\n",
       "<table border=\"1\" class=\"dataframe\">\n",
       "  <thead>\n",
       "    <tr style=\"text-align: right;\">\n",
       "      <th></th>\n",
       "      <th>Strike (deg)</th>\n",
       "      <th>Dip (deg)</th>\n",
       "      <th>Hypocenter Latitude (deg)</th>\n",
       "      <th>Hypocenter Longitude (deg)</th>\n",
       "      <th>EpiD (km)</th>\n",
       "      <th>HypD (km)</th>\n",
       "      <th>Joyner-Boore Dist. (km)</th>\n",
       "      <th>Station Latitude</th>\n",
       "      <th>Station Longitude</th>\n",
       "    </tr>\n",
       "  </thead>\n",
       "  <tbody>\n",
       "    <tr>\n",
       "      <th>4288</th>\n",
       "      <td>-999.0</td>\n",
       "      <td>-999.0</td>\n",
       "      <td>40.857</td>\n",
       "      <td>15.711</td>\n",
       "      <td>-999.00</td>\n",
       "      <td>-999.00</td>\n",
       "      <td>-999.00</td>\n",
       "      <td>40.4580</td>\n",
       "      <td>15.6350</td>\n",
       "    </tr>\n",
       "    <tr>\n",
       "      <th>4560</th>\n",
       "      <td>230.0</td>\n",
       "      <td>50.0</td>\n",
       "      <td>30.986</td>\n",
       "      <td>103.364</td>\n",
       "      <td>1557.25</td>\n",
       "      <td>1557.28</td>\n",
       "      <td>1273.62</td>\n",
       "      <td>40.5000</td>\n",
       "      <td>116.0000</td>\n",
       "    </tr>\n",
       "    <tr>\n",
       "      <th>4561</th>\n",
       "      <td>230.0</td>\n",
       "      <td>50.0</td>\n",
       "      <td>30.986</td>\n",
       "      <td>103.364</td>\n",
       "      <td>1547.26</td>\n",
       "      <td>1547.29</td>\n",
       "      <td>1263.31</td>\n",
       "      <td>40.0000</td>\n",
       "      <td>116.3000</td>\n",
       "    </tr>\n",
       "    <tr>\n",
       "      <th>4562</th>\n",
       "      <td>230.0</td>\n",
       "      <td>50.0</td>\n",
       "      <td>30.986</td>\n",
       "      <td>103.364</td>\n",
       "      <td>1561.49</td>\n",
       "      <td>1561.52</td>\n",
       "      <td>1278.16</td>\n",
       "      <td>39.4000</td>\n",
       "      <td>117.1000</td>\n",
       "    </tr>\n",
       "    <tr>\n",
       "      <th>4584</th>\n",
       "      <td>230.0</td>\n",
       "      <td>50.0</td>\n",
       "      <td>30.986</td>\n",
       "      <td>103.364</td>\n",
       "      <td>1162.60</td>\n",
       "      <td>1162.64</td>\n",
       "      <td>878.72</td>\n",
       "      <td>38.1000</td>\n",
       "      <td>112.7000</td>\n",
       "    </tr>\n",
       "    <tr>\n",
       "      <th>4597</th>\n",
       "      <td>230.0</td>\n",
       "      <td>50.0</td>\n",
       "      <td>30.986</td>\n",
       "      <td>103.364</td>\n",
       "      <td>1400.74</td>\n",
       "      <td>1400.77</td>\n",
       "      <td>1292.76</td>\n",
       "      <td>25.8000</td>\n",
       "      <td>116.4000</td>\n",
       "    </tr>\n",
       "    <tr>\n",
       "      <th>4599</th>\n",
       "      <td>230.0</td>\n",
       "      <td>50.0</td>\n",
       "      <td>30.986</td>\n",
       "      <td>103.364</td>\n",
       "      <td>1582.21</td>\n",
       "      <td>1582.24</td>\n",
       "      <td>1307.11</td>\n",
       "      <td>36.8000</td>\n",
       "      <td>118.9000</td>\n",
       "    </tr>\n",
       "    <tr>\n",
       "      <th>4600</th>\n",
       "      <td>230.0</td>\n",
       "      <td>50.0</td>\n",
       "      <td>30.986</td>\n",
       "      <td>103.364</td>\n",
       "      <td>1315.68</td>\n",
       "      <td>1315.72</td>\n",
       "      <td>1036.17</td>\n",
       "      <td>36.8000</td>\n",
       "      <td>115.7000</td>\n",
       "    </tr>\n",
       "    <tr>\n",
       "      <th>4601</th>\n",
       "      <td>230.0</td>\n",
       "      <td>50.0</td>\n",
       "      <td>30.986</td>\n",
       "      <td>103.364</td>\n",
       "      <td>1628.86</td>\n",
       "      <td>1628.89</td>\n",
       "      <td>1353.78</td>\n",
       "      <td>36.9000</td>\n",
       "      <td>119.4000</td>\n",
       "    </tr>\n",
       "    <tr>\n",
       "      <th>4602</th>\n",
       "      <td>230.0</td>\n",
       "      <td>50.0</td>\n",
       "      <td>30.986</td>\n",
       "      <td>103.364</td>\n",
       "      <td>1553.77</td>\n",
       "      <td>1553.80</td>\n",
       "      <td>1279.82</td>\n",
       "      <td>36.5000</td>\n",
       "      <td>118.7000</td>\n",
       "    </tr>\n",
       "    <tr>\n",
       "      <th>4603</th>\n",
       "      <td>230.0</td>\n",
       "      <td>50.0</td>\n",
       "      <td>30.986</td>\n",
       "      <td>103.364</td>\n",
       "      <td>1285.41</td>\n",
       "      <td>1285.45</td>\n",
       "      <td>1008.42</td>\n",
       "      <td>36.3000</td>\n",
       "      <td>115.7000</td>\n",
       "    </tr>\n",
       "    <tr>\n",
       "      <th>4604</th>\n",
       "      <td>230.0</td>\n",
       "      <td>50.0</td>\n",
       "      <td>30.986</td>\n",
       "      <td>103.364</td>\n",
       "      <td>1524.92</td>\n",
       "      <td>1524.96</td>\n",
       "      <td>1246.26</td>\n",
       "      <td>37.4000</td>\n",
       "      <td>118.0000</td>\n",
       "    </tr>\n",
       "    <tr>\n",
       "      <th>4610</th>\n",
       "      <td>230.0</td>\n",
       "      <td>50.0</td>\n",
       "      <td>30.986</td>\n",
       "      <td>103.364</td>\n",
       "      <td>1415.84</td>\n",
       "      <td>1415.88</td>\n",
       "      <td>1383.88</td>\n",
       "      <td>22.9000</td>\n",
       "      <td>114.3000</td>\n",
       "    </tr>\n",
       "    <tr>\n",
       "      <th>4705</th>\n",
       "      <td>230.0</td>\n",
       "      <td>50.0</td>\n",
       "      <td>30.986</td>\n",
       "      <td>103.364</td>\n",
       "      <td>330.84</td>\n",
       "      <td>331.00</td>\n",
       "      <td>311.97</td>\n",
       "      <td>29.0000</td>\n",
       "      <td>101.5000</td>\n",
       "    </tr>\n",
       "    <tr>\n",
       "      <th>4707</th>\n",
       "      <td>230.0</td>\n",
       "      <td>50.0</td>\n",
       "      <td>30.986</td>\n",
       "      <td>103.364</td>\n",
       "      <td>285.98</td>\n",
       "      <td>286.16</td>\n",
       "      <td>269.45</td>\n",
       "      <td>28.2000</td>\n",
       "      <td>104.5000</td>\n",
       "    </tr>\n",
       "    <tr>\n",
       "      <th>6919</th>\n",
       "      <td>85.1</td>\n",
       "      <td>82.2</td>\n",
       "      <td>-43.615</td>\n",
       "      <td>172.049</td>\n",
       "      <td>279.67</td>\n",
       "      <td>279.89</td>\n",
       "      <td>266.57</td>\n",
       "      <td>-43.4971</td>\n",
       "      <td>172.7179</td>\n",
       "    </tr>\n",
       "  </tbody>\n",
       "</table>\n",
       "</div>"
      ],
      "text/plain": [
       "      Strike (deg)  Dip (deg)  Hypocenter Latitude (deg)  \\\n",
       "4288        -999.0     -999.0                     40.857   \n",
       "4560         230.0       50.0                     30.986   \n",
       "4561         230.0       50.0                     30.986   \n",
       "4562         230.0       50.0                     30.986   \n",
       "4584         230.0       50.0                     30.986   \n",
       "4597         230.0       50.0                     30.986   \n",
       "4599         230.0       50.0                     30.986   \n",
       "4600         230.0       50.0                     30.986   \n",
       "4601         230.0       50.0                     30.986   \n",
       "4602         230.0       50.0                     30.986   \n",
       "4603         230.0       50.0                     30.986   \n",
       "4604         230.0       50.0                     30.986   \n",
       "4610         230.0       50.0                     30.986   \n",
       "4705         230.0       50.0                     30.986   \n",
       "4707         230.0       50.0                     30.986   \n",
       "6919          85.1       82.2                    -43.615   \n",
       "\n",
       "      Hypocenter Longitude (deg)  EpiD (km)  HypD (km)  \\\n",
       "4288                      15.711    -999.00    -999.00   \n",
       "4560                     103.364    1557.25    1557.28   \n",
       "4561                     103.364    1547.26    1547.29   \n",
       "4562                     103.364    1561.49    1561.52   \n",
       "4584                     103.364    1162.60    1162.64   \n",
       "4597                     103.364    1400.74    1400.77   \n",
       "4599                     103.364    1582.21    1582.24   \n",
       "4600                     103.364    1315.68    1315.72   \n",
       "4601                     103.364    1628.86    1628.89   \n",
       "4602                     103.364    1553.77    1553.80   \n",
       "4603                     103.364    1285.41    1285.45   \n",
       "4604                     103.364    1524.92    1524.96   \n",
       "4610                     103.364    1415.84    1415.88   \n",
       "4705                     103.364     330.84     331.00   \n",
       "4707                     103.364     285.98     286.16   \n",
       "6919                     172.049     279.67     279.89   \n",
       "\n",
       "      Joyner-Boore Dist. (km)  Station Latitude  Station Longitude  \n",
       "4288                  -999.00           40.4580            15.6350  \n",
       "4560                  1273.62           40.5000           116.0000  \n",
       "4561                  1263.31           40.0000           116.3000  \n",
       "4562                  1278.16           39.4000           117.1000  \n",
       "4584                   878.72           38.1000           112.7000  \n",
       "4597                  1292.76           25.8000           116.4000  \n",
       "4599                  1307.11           36.8000           118.9000  \n",
       "4600                  1036.17           36.8000           115.7000  \n",
       "4601                  1353.78           36.9000           119.4000  \n",
       "4602                  1279.82           36.5000           118.7000  \n",
       "4603                  1008.42           36.3000           115.7000  \n",
       "4604                  1246.26           37.4000           118.0000  \n",
       "4610                  1383.88           22.9000           114.3000  \n",
       "4705                   311.97           29.0000           101.5000  \n",
       "4707                   269.45           28.2000           104.5000  \n",
       "6919                   266.57          -43.4971           172.7179  "
      ]
     },
     "execution_count": 48,
     "metadata": {},
     "output_type": "execute_result"
    }
   ],
   "source": [
    "df.iloc[np.where(differences[\"EpiD (km)\"].abs()>25)[0], [9,10,11,12,18,19,20,26,27]]"
   ]
  },
  {
   "cell_type": "code",
   "execution_count": 66,
   "metadata": {},
   "outputs": [
    {
     "data": {
      "text/plain": [
       "Repi    1187.072708\n",
       "Rhyp    1187.115165\n",
       "Rjb     1040.528002\n",
       "Rrup    1043.277882\n",
       "Name: 4604, dtype: float64"
      ]
     },
     "execution_count": 66,
     "metadata": {},
     "output_type": "execute_result"
    }
   ],
   "source": [
    "dist.loc[4604]"
   ]
  },
  {
   "cell_type": "code",
   "execution_count": 14,
   "metadata": {},
   "outputs": [],
   "source": [
    "XEvent= GeoDistance(EQLAT,EVENTLON,EQLAT,EQLON,\"K\")\n",
    "YEvent= GeoDistance(EVENTLAT,EQLON,EQLAT,EQLON,\"K\")\n",
    "repi = GeoDistance(EVENTLAT,EVENTLON,EQLAT,EQLON,\"K\")"
   ]
  },
  {
   "cell_type": "code",
   "execution_count": 15,
   "metadata": {},
   "outputs": [
    {
     "data": {
      "text/plain": [
       "1552.4245325605891"
      ]
     },
     "execution_count": 15,
     "metadata": {},
     "output_type": "execute_result"
    }
   ],
   "source": [
    "repi[4560]"
   ]
  },
  {
   "cell_type": "code",
   "execution_count": 16,
   "metadata": {},
   "outputs": [],
   "source": [
    "repiQ = np.sqrt(XEvent**2+YEvent**2)\n",
    "repiQQ = np.arccos(np.cos(XEvent)*np.cos(YEvent))"
   ]
  },
  {
   "cell_type": "code",
   "execution_count": 17,
   "metadata": {},
   "outputs": [],
   "source": [
    "diffEpi = repi -repiQ*np.cos(np.radians(EQLON-EVENTLON))"
   ]
  },
  {
   "cell_type": "code",
   "execution_count": 101,
   "metadata": {},
   "outputs": [
    {
     "data": {
      "text/plain": [
       "<matplotlib.axes._subplots.AxesSubplot at 0x7fd195b01a10>"
      ]
     },
     "execution_count": 101,
     "metadata": {},
     "output_type": "execute_result"
    },
    {
     "data": {
      "image/png": "[encoded data removed]",
      "text/plain": [
       "<Figure size 432x288 with 1 Axes>"
      ]
     },
     "metadata": {
      "needs_background": "light"
     },
     "output_type": "display_data"
    }
   ],
   "source": [
    "diffEpi.hist(bins=1000, \n",
    "                            color='#0504aa',\n",
    "                            alpha=0.7, \n",
    "                            rwidth=0.85)"
   ]
  },
  {
   "cell_type": "code",
   "execution_count": 20,
   "metadata": {},
   "outputs": [
    {
     "data": {
      "text/plain": [
       "[<matplotlib.lines.Line2D at 0x7f3764ed6b50>]"
      ]
     },
     "execution_count": 20,
     "metadata": {},
     "output_type": "execute_result"
    },
    {
     "data": {
      "image/png": "[encoded data removed]",
      "text/plain": [
       "<Figure size 432x288 with 1 Axes>"
      ]
     },
     "metadata": {
      "needs_background": "light"
     },
     "output_type": "display_data"
    }
   ],
   "source": [
    "fig = plt.figure()\n",
    "ax = plt.axes()\n",
    "\n",
    "plt.plot(repi, diffEpi.abs() , \"o\")\n"
   ]
  },
  {
   "cell_type": "code",
   "execution_count": 22,
   "metadata": {},
   "outputs": [
    {
     "data": {
      "text/plain": [
       "0.0491307454615506"
      ]
     },
     "execution_count": 22,
     "metadata": {},
     "output_type": "execute_result"
    }
   ],
   "source": [
    "diffEpi.mean()"
   ]
  },
  {
   "cell_type": "code",
   "execution_count": null,
   "metadata": {},
   "outputs": [],
   "source": []
  },
  {
   "cell_type": "code",
   "execution_count": null,
   "metadata": {},
   "outputs": [],
   "source": []
  },
  {
   "cell_type": "code",
   "execution_count": null,
   "metadata": {},
   "outputs": [],
   "source": []
  }
 ],
 "metadata": {
  "kernelspec": {
   "display_name": "Python 2",
   "language": "python",
   "name": "python2"
  },
  "language_info": {
   "codemirror_mode": {
    "name": "ipython",
    "version": 2
   },
   "file_extension": ".py",
   "mimetype": "text/x-python",
   "name": "python",
   "nbconvert_exporter": "python",
   "pygments_lexer": "ipython2",
   "version": "2.7.15rc1"
  }
 },
 "nbformat": 4,
 "nbformat_minor": 2
}
