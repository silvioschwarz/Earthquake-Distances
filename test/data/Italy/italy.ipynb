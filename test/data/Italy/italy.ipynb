{
  "cells": [
    {
      "cell_type": "code",
      "source": [
        "#%matplotlib inline\n",
        "#%reload_ext signature\n",
        "import os\n",
        "import matplotlib.pyplot as plt\n",
        "import numpy as np\n",
        "import pandas as pd\n",
        "from eqs2s import GeoDistance\n",
        "from eqs2s import EQDistances\n",
        "\n",
        "WD = os.getcwd()\n",
        "print(WD)"
      ],
      "outputs": [
        {
          "output_type": "stream",
          "name": "stdout",
          "text": [
            "/home/silvio/Dokumente/GitHub/Statistical Seismology/Earthquake-Source-to-Site-Metrics/test/data/Italy\n"
          ]
        }
      ],
      "execution_count": 2,
      "metadata": {
        "collapsed": false,
        "outputHidden": false,
        "inputHidden": false
      }
    },
    {
      "cell_type": "code",
      "source": [
        "os.listdir()"
      ],
      "outputs": [
        {
          "output_type": "execute_result",
          "execution_count": 3,
          "data": {
            "text/plain": [
              "['dbmi04.xls',\n",
              " 'distCalc.ipynb',\n",
              " 'dbmi04.zip',\n",
              " 'ItalyIntensity.ipynb',\n",
              " 'DZ47Clean.dat',\n",
              " '.ipynb_checkpoints',\n",
              " 'eqs2s.py',\n",
              " 'intensity.ipynb',\n",
              " 'D47Clean.dat',\n",
              " '__pycache__',\n",
              " 'italy.ipynb',\n",
              " 'DBMI15',\n",
              " 'CPTI15_v1.5.xls']"
            ]
          },
          "metadata": {}
        }
      ],
      "execution_count": 3,
      "metadata": {
        "collapsed": false,
        "outputHidden": false,
        "inputHidden": false
      }
    },
    {
      "cell_type": "code",
      "source": [],
      "outputs": [],
      "execution_count": null,
      "metadata": {
        "collapsed": false,
        "outputHidden": false,
        "inputHidden": false
      }
    }
  ],
  "metadata": {
    "kernel_info": {
      "name": "python3"
    },
    "language_info": {
      "name": "python",
      "version": "3.6.7",
      "mimetype": "text/x-python",
      "codemirror_mode": {
        "name": "ipython",
        "version": 3
      },
      "pygments_lexer": "ipython3",
      "nbconvert_exporter": "python",
      "file_extension": ".py"
    },
    "kernelspec": {
      "name": "python3",
      "language": "python",
      "display_name": "Python 3"
    },
    "nteract": {
      "version": "0.12.3"
    }
  },
  "nbformat": 4,
  "nbformat_minor": 4
}