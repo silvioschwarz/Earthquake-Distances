{
 "cells": [
  {
   "cell_type": "code",
   "execution_count": 63,
   "metadata": {},
   "outputs": [
    {
     "data": {
      "text/html": [
       "<div>\n",
       "<style scoped>\n",
       "    .dataframe tbody tr th:only-of-type {\n",
       "        vertical-align: middle;\n",
       "    }\n",
       "\n",
       "    .dataframe tbody tr th {\n",
       "        vertical-align: top;\n",
       "    }\n",
       "\n",
       "    .dataframe thead th {\n",
       "        text-align: right;\n",
       "    }\n",
       "</style>\n",
       "<table border=\"1\" class=\"dataframe\">\n",
       "  <thead>\n",
       "    <tr style=\"text-align: right;\">\n",
       "      <th></th>\n",
       "      <th>NDBMI04</th>\n",
       "      <th>NCPTI04</th>\n",
       "      <th>An</th>\n",
       "      <th>Me</th>\n",
       "      <th>Gi</th>\n",
       "      <th>Ora</th>\n",
       "      <th>Mi</th>\n",
       "      <th>Se</th>\n",
       "      <th>AE</th>\n",
       "      <th>Rt</th>\n",
       "      <th>...</th>\n",
       "      <th>LatIDP</th>\n",
       "      <th>LonIDP</th>\n",
       "      <th>Is</th>\n",
       "      <th>Cou</th>\n",
       "      <th>Istat01</th>\n",
       "      <th>Pr</th>\n",
       "      <th>LocOr</th>\n",
       "      <th>LatOr</th>\n",
       "      <th>LonOr</th>\n",
       "      <th>IsOr</th>\n",
       "    </tr>\n",
       "  </thead>\n",
       "  <tbody>\n",
       "    <tr>\n",
       "      <th>0</th>\n",
       "      <td>1</td>\n",
       "      <td>1</td>\n",
       "      <td>-217</td>\n",
       "      <td>6.0</td>\n",
       "      <td>NaN</td>\n",
       "      <td>NaN</td>\n",
       "      <td>NaN</td>\n",
       "      <td>NaN</td>\n",
       "      <td>Etruria</td>\n",
       "      <td>CFTI</td>\n",
       "      <td>...</td>\n",
       "      <td>NaN</td>\n",
       "      <td>NaN</td>\n",
       "      <td>10.0</td>\n",
       "      <td>IT</td>\n",
       "      <td>NaN</td>\n",
       "      <td>NaN</td>\n",
       "      <td>Etruria</td>\n",
       "      <td>43.250</td>\n",
       "      <td>11.250</td>\n",
       "      <td>100</td>\n",
       "    </tr>\n",
       "    <tr>\n",
       "      <th>1</th>\n",
       "      <td>2</td>\n",
       "      <td>1</td>\n",
       "      <td>-217</td>\n",
       "      <td>6.0</td>\n",
       "      <td>NaN</td>\n",
       "      <td>NaN</td>\n",
       "      <td>NaN</td>\n",
       "      <td>NaN</td>\n",
       "      <td>Etruria</td>\n",
       "      <td>CFTI</td>\n",
       "      <td>...</td>\n",
       "      <td>NaN</td>\n",
       "      <td>NaN</td>\n",
       "      <td>NaN</td>\n",
       "      <td>IT</td>\n",
       "      <td>NaN</td>\n",
       "      <td>NaN</td>\n",
       "      <td>Lago Trasimeno   [1]</td>\n",
       "      <td>43.133</td>\n",
       "      <td>12.108</td>\n",
       "      <td>NaN</td>\n",
       "    </tr>\n",
       "    <tr>\n",
       "      <th>2</th>\n",
       "      <td>3</td>\n",
       "      <td>2</td>\n",
       "      <td>-174</td>\n",
       "      <td>NaN</td>\n",
       "      <td>NaN</td>\n",
       "      <td>NaN</td>\n",
       "      <td>NaN</td>\n",
       "      <td>NaN</td>\n",
       "      <td>Sabina</td>\n",
       "      <td>CFTI</td>\n",
       "      <td>...</td>\n",
       "      <td>NaN</td>\n",
       "      <td>NaN</td>\n",
       "      <td>10.0</td>\n",
       "      <td>IT</td>\n",
       "      <td>NaN</td>\n",
       "      <td>NaN</td>\n",
       "      <td>Sabina   [1]</td>\n",
       "      <td>42.250</td>\n",
       "      <td>12.667</td>\n",
       "      <td>100</td>\n",
       "    </tr>\n",
       "    <tr>\n",
       "      <th>3</th>\n",
       "      <td>4</td>\n",
       "      <td>3</td>\n",
       "      <td>-100</td>\n",
       "      <td>NaN</td>\n",
       "      <td>NaN</td>\n",
       "      <td>NaN</td>\n",
       "      <td>NaN</td>\n",
       "      <td>NaN</td>\n",
       "      <td>Picenum</td>\n",
       "      <td>CFTI</td>\n",
       "      <td>...</td>\n",
       "      <td>NaN</td>\n",
       "      <td>NaN</td>\n",
       "      <td>8.5</td>\n",
       "      <td>IT</td>\n",
       "      <td>NaN</td>\n",
       "      <td>NaN</td>\n",
       "      <td>Picenum   [2]</td>\n",
       "      <td>43.167</td>\n",
       "      <td>13.500</td>\n",
       "      <td>85</td>\n",
       "    </tr>\n",
       "    <tr>\n",
       "      <th>4</th>\n",
       "      <td>5</td>\n",
       "      <td>4</td>\n",
       "      <td>-99</td>\n",
       "      <td>NaN</td>\n",
       "      <td>NaN</td>\n",
       "      <td>NaN</td>\n",
       "      <td>NaN</td>\n",
       "      <td>NaN</td>\n",
       "      <td>Norcia</td>\n",
       "      <td>CFTI</td>\n",
       "      <td>...</td>\n",
       "      <td>42.793</td>\n",
       "      <td>13.094</td>\n",
       "      <td>9.0</td>\n",
       "      <td>IT</td>\n",
       "      <td>10054035.0</td>\n",
       "      <td>PG</td>\n",
       "      <td>Norcia  PG</td>\n",
       "      <td>42.793</td>\n",
       "      <td>13.094</td>\n",
       "      <td>90</td>\n",
       "    </tr>\n",
       "  </tbody>\n",
       "</table>\n",
       "<p>5 rows × 31 columns</p>\n",
       "</div>"
      ],
      "text/plain": [
       "   NDBMI04  NCPTI04   An   Me  Gi  Ora  Mi  Se       AE    Rt ...   LatIDP  \\\n",
       "0        1        1 -217  6.0 NaN  NaN NaN NaN  Etruria  CFTI ...      NaN   \n",
       "1        2        1 -217  6.0 NaN  NaN NaN NaN  Etruria  CFTI ...      NaN   \n",
       "2        3        2 -174  NaN NaN  NaN NaN NaN   Sabina  CFTI ...      NaN   \n",
       "3        4        3 -100  NaN NaN  NaN NaN NaN  Picenum  CFTI ...      NaN   \n",
       "4        5        4  -99  NaN NaN  NaN NaN NaN   Norcia  CFTI ...   42.793   \n",
       "\n",
       "   LonIDP    Is  Cou     Istat01   Pr                 LocOr   LatOr   LonOr  \\\n",
       "0     NaN  10.0   IT         NaN  NaN               Etruria  43.250  11.250   \n",
       "1     NaN   NaN   IT         NaN  NaN  Lago Trasimeno   [1]  43.133  12.108   \n",
       "2     NaN  10.0   IT         NaN  NaN          Sabina   [1]  42.250  12.667   \n",
       "3     NaN   8.5   IT         NaN  NaN         Picenum   [2]  43.167  13.500   \n",
       "4  13.094   9.0   IT  10054035.0   PG            Norcia  PG  42.793  13.094   \n",
       "\n",
       "  IsOr  \n",
       "0  100  \n",
       "1  NaN  \n",
       "2  100  \n",
       "3   85  \n",
       "4   90  \n",
       "\n",
       "[5 rows x 31 columns]"
      ]
     },
     "execution_count": 63,
     "metadata": {},
     "output_type": "execute_result"
    }
   ],
   "source": [
    "import matplotlib.pyplot as plt\n",
    "import numpy as np\n",
    "import pandas as pd\n",
    "\n",
    "df = pd.read_excel(\"dbmi04.xls\", dtype={'Ix':float,'Io':float,'Is':float,'LatEp':float,\n",
    "                                        'LonEp':float,'LatIDP':float,'LonIDP':float})\n",
    "\n",
    "df.head()\n",
    "\n",
    "df.Ix = np.floor(df.Ix)\n",
    "df.Is = np.floor(df.Is)\n",
    "df.I0= np.floor(df.I0)"
   ]
  },
  {
   "cell_type": "code",
   "execution_count": null,
   "metadata": {},
   "outputs": [],
   "source": []
  },
  {
   "cell_type": "code",
   "execution_count": 81,
   "metadata": {},
   "outputs": [
    {
     "data": {
      "image/png": "[encoded data removed]",
      "text/plain": [
       "<Figure size 432x288 with 1 Axes>"
      ]
     },
     "metadata": {
      "needs_background": "light"
     },
     "output_type": "display_data"
    }
   ],
   "source": [
    "plt.hist(df.loc[~np.isnan(df.Io), \"Io\"])\n",
    "plt.show()"
   ]
  },
  {
   "cell_type": "code",
   "execution_count": null,
   "metadata": {},
   "outputs": [],
   "source": []
  },
  {
   "cell_type": "code",
   "execution_count": 82,
   "metadata": {},
   "outputs": [],
   "source": [
    "def GeoDistance(lat1, lon1, lat2, lon2, unit):\n",
    "    radlat1 = np.pi * lat1/180\n",
    "    radlat2 = np.pi * lat2/180\n",
    "    theta = lon1-lon2\n",
    "    radtheta = np.pi * theta/180\n",
    "    dist = np.sin(radlat1) * np.sin(radlat2) + np.cos(radlat1) * np.cos(radlat2) * np.cos(radtheta);\n",
    "    dist = np.arccos(dist)\n",
    "    dist = dist * 180/np.pi\n",
    "    dist = dist * 60 * 1.1515\n",
    "\n",
    "    if unit==\"K\":\n",
    "            dist = dist * 1.609344\n",
    "    if unit==\"N\":\n",
    "            dist = dist * 0.8684\n",
    "    return dist"
   ]
  },
  {
   "cell_type": "code",
   "execution_count": 173,
   "metadata": {},
   "outputs": [
    {
     "name": "stderr",
     "output_type": "stream",
     "text": [
      "/usr/local/lib/python2.7/dist-packages/ipykernel_launcher.py:7: RuntimeWarning: invalid value encountered in arccos\n",
      "  import sys\n"
     ]
    }
   ],
   "source": [
    "nf = df[(~np.isnan(df.LonIDP) & ~np.isnan(df.LatIDP) & ~np.isnan(df.LatEp) & ~np.isnan(df.LonEp) )]\n",
    "nf.index = range(len(nf.index))\n",
    "\n",
    "R = GeoDistance(nf.LatEp,nf.LonEp,nf.LatIDP,nf.LonIDP, \"k\")\n",
    "\n",
    "nf = nf.assign(R=R.values)\n",
    "nf = nf[~np.isnan(R)]"
   ]
  },
  {
   "cell_type": "code",
   "execution_count": 174,
   "metadata": {
    "scrolled": true
   },
   "outputs": [
    {
     "data": {
      "image/png": "[encoded data removed]",
      "text/plain": [
       "<Figure size 432x288 with 2 Axes>"
      ]
     },
     "metadata": {
      "needs_background": "light"
     },
     "output_type": "display_data"
    }
   ],
   "source": [
    "plt.scatter(nf.R,nf.Is, \n",
    "            c=nf.Ix, cmap='jet')\n",
    "plt.colorbar(label=\"Ix\")\n",
    "\n",
    "#plt.legend(scatterpoints=1, frameon=False, labelspacing=1, title='City Area')\n",
    "\n",
    "plt.show()"
   ]
  },
  {
   "cell_type": "code",
   "execution_count": 168,
   "metadata": {},
   "outputs": [],
   "source": []
  },
  {
   "cell_type": "code",
   "execution_count": 184,
   "metadata": {},
   "outputs": [
    {
     "data": {
      "image/png": "[encoded data removed]",
      "text/plain": [
       "<Figure size 432x288 with 1 Axes>"
      ]
     },
     "metadata": {
      "needs_background": "light"
     },
     "output_type": "display_data"
    },
    {
     "data": {
      "text/plain": [
       "<matplotlib.axes._subplots.AxesSubplot at 0x7f834f341bd0>"
      ]
     },
     "execution_count": 184,
     "metadata": {},
     "output_type": "execute_result"
    },
    {
     "data": {
      "image/png": "[encoded data removed]",
      "text/plain": [
       "<Figure size 432x288 with 1 Axes>"
      ]
     },
     "metadata": {
      "needs_background": "light"
     },
     "output_type": "display_data"
    }
   ],
   "source": [
    "Imax = 10\n",
    "temp = nf[nf.Ix == Imax]\n",
    "bins=30\n",
    "plt.xlim(0,150)\n",
    "\n",
    "plt.hist(temp[temp.Is==Imax].R, alpha=0.5,bins=bins)\n",
    "plt.hist(temp[temp.Is==Imax-1].R, alpha=0.5 ,bins=bins)\n",
    "plt.hist(temp[temp.Is==Imax-2].R, alpha=0.5, bins=bins)\n",
    "plt.hist(temp[temp.Is==Imax-3].R, alpha=0.5, bins=bins)\n",
    "plt.hist(temp[temp.Is==Imax-4].R, alpha=0.5, bins=bins)\n",
    "#plt.hist(nf.loc[nf.Is==Imax-5].R, alpha=0.5) \n",
    "\n",
    "plt.show()\n",
    "\n",
    "temp[temp.Is==Imax].R.plot(kind='density')\n",
    "temp[temp.Is==Imax-1].R.plot(kind='density')\n",
    "temp[temp.Is==Imax-2].R.plot(kind='density')\n",
    "temp[temp.Is==Imax-3].R.plot(kind='density')\n",
    "temp[temp.Is==Imax-4].R.plot(kind='density')\n",
    "#nf.loc[nf.Is==Imax-5].R.plot(kind='density')\n",
    "#nf.loc[nf.Is==Imax-6].R.plot(kind='density')"
   ]
  },
  {
   "cell_type": "code",
   "execution_count": 170,
   "metadata": {},
   "outputs": [
    {
     "data": {
      "text/plain": [
       "58019"
      ]
     },
     "execution_count": 170,
     "metadata": {},
     "output_type": "execute_result"
    }
   ],
   "source": [
    "len(R)"
   ]
  },
  {
   "cell_type": "code",
   "execution_count": 171,
   "metadata": {},
   "outputs": [
    {
     "data": {
      "text/plain": [
       "58019"
      ]
     },
     "execution_count": 171,
     "metadata": {},
     "output_type": "execute_result"
    }
   ],
   "source": [
    "len(nnf)"
   ]
  },
  {
   "cell_type": "code",
   "execution_count": 172,
   "metadata": {},
   "outputs": [
    {
     "data": {
      "text/plain": [
       "array([ 0.57133351, 70.0378658 ,  3.68865321, ..., 14.43898989,\n",
       "       15.13446257, 15.34219276])"
      ]
     },
     "execution_count": 172,
     "metadata": {},
     "output_type": "execute_result"
    }
   ],
   "source": [
    "R.values"
   ]
  },
  {
   "cell_type": "code",
   "execution_count": null,
   "metadata": {},
   "outputs": [],
   "source": []
  }
 ],
 "metadata": {
  "kernelspec": {
   "display_name": "Python 2",
   "language": "python",
   "name": "python2"
  },
  "language_info": {
   "codemirror_mode": {
    "name": "ipython",
    "version": 2
   },
   "file_extension": ".py",
   "mimetype": "text/x-python",
   "name": "python",
   "nbconvert_exporter": "python",
   "pygments_lexer": "ipython2",
   "version": "2.7.15rc1"
  }
 },
 "nbformat": 4,
 "nbformat_minor": 2
}
